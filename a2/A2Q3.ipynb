{
 "cells": [
  {
   "cell_type": "markdown",
   "metadata": {},
   "source": [
    "# CMPT 423/820 \n",
    "## Assignment 2 Question 3\n",
    "* Austin Heinrich\n",
    "* 11177796\n",
    "* awh055"
   ]
  },
  {
   "cell_type": "markdown",
   "metadata": {},
   "source": [
    "Use the A2Q3 dataset to compare three classifiers:\n",
    "\n",
    "1) K-Nearest Neibours Classifier. Remember that you'll have to choose *K*.\n",
    "\n",
    "2) Naive Bayes Classifier\n",
    "\n",
    "3) Decision Tree Classifier"
   ]
  },
  {
   "cell_type": "markdown",
   "metadata": {},
   "source": [
    "### K-Neighbors Classifier"
   ]
  },
  {
   "cell_type": "code",
   "execution_count": 1,
   "metadata": {
    "scrolled": true
   },
   "outputs": [
    {
     "name": "stdout",
     "output_type": "stream",
     "text": [
      "F1 Score: 0.7021963822807591\n"
     ]
    }
   ],
   "source": [
    "import pandas as pd\n",
    "from sklearn import neighbors\n",
    "from sklearn.model_selection import train_test_split\n",
    "from sklearn.metrics import f1_score \n",
    "\n",
    "dataframe = pd.read_csv('a2q3.csv', header=None, \n",
    "                        names=['Class','I','II','III','IV','V','VI','VII','VIII','IX','X','XI','XII','XIII'],\n",
    "                        index_col=False)\n",
    "features = dataframe.drop(columns=['Class'])\n",
    "labels = dataframe['Class']\n",
    "\n",
    "# split the dataframe into a training set and a testing set\n",
    "tpropn = 0.5\n",
    "features_train, features_test, labels_train, labels_test = train_test_split(features, labels, test_size=tpropn)\n",
    "\n",
    "K = 14\n",
    "\n",
    "clf = neighbors.KNeighborsClassifier(K)\n",
    "clf.fit(features_train, labels_train)\n",
    "predict_kn = clf.predict(features_test)\n",
    "print(\"F1 Score:\", f1_score(labels_test, predict_kn, average='weighted'))"
   ]
  },
  {
   "cell_type": "markdown",
   "metadata": {},
   "source": [
    "### Gaussian Naive Bayes Classifier"
   ]
  },
  {
   "cell_type": "code",
   "execution_count": 2,
   "metadata": {
    "scrolled": false
   },
   "outputs": [
    {
     "name": "stdout",
     "output_type": "stream",
     "text": [
      "F1 Score: 0.9661538745149367\n"
     ]
    }
   ],
   "source": [
    "from sklearn.naive_bayes import GaussianNB\n",
    "\n",
    "clf = GaussianNB()\n",
    "clf.fit(features_train, labels_train)\n",
    "predict_gauss = clf.predict(features_test)\n",
    "\n",
    "print(\"F1 Score:\", f1_score(labels_test, predict_gauss, average='weighted'))"
   ]
  },
  {
   "cell_type": "markdown",
   "metadata": {},
   "source": [
    "### Decision Tree Classifier"
   ]
  },
  {
   "cell_type": "code",
   "execution_count": 3,
   "metadata": {},
   "outputs": [
    {
     "name": "stdout",
     "output_type": "stream",
     "text": [
      "F1 Score: 0.8309031208123631\n"
     ]
    }
   ],
   "source": [
    "from sklearn.tree import DecisionTreeClassifier\n",
    "from sklearn.datasets import load_iris\n",
    "\n",
    "depth = 10\n",
    "\n",
    "clf = DecisionTreeClassifier(max_depth=depth)\n",
    "clf.fit(features_train, labels_train)\n",
    "predict_dt = clf.predict(features_test)\n",
    "# print(clf.predict_proba(features_test))\n",
    "print(\"F1 Score:\", f1_score(labels_test, predict_dt, average='weighted'))"
   ]
  },
  {
   "cell_type": "markdown",
   "metadata": {},
   "source": [
    "K-Neighbors F1 Score: 0.7021963822807591\n",
    "\n",
    "Gaussian Naive Bayes F1 Score: 0.9661538745149367\n",
    "\n",
    "Decision Tree F1 Score: F1 Score: 0.8309031208123631"
   ]
  }
 ],
 "metadata": {
  "kernelspec": {
   "display_name": "Python 3",
   "language": "python",
   "name": "python3"
  },
  "language_info": {
   "codemirror_mode": {
    "name": "ipython",
    "version": 3
   },
   "file_extension": ".py",
   "mimetype": "text/x-python",
   "name": "python",
   "nbconvert_exporter": "python",
   "pygments_lexer": "ipython3",
   "version": "3.7.4"
  }
 },
 "nbformat": 4,
 "nbformat_minor": 2
}
