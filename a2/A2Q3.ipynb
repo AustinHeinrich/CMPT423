{
 "cells": [
  {
   "cell_type": "markdown",
   "metadata": {},
   "source": [
    "# CMPT 423/820 \n",
    "## Assignment 2 Question 3\n",
    "* Austin Heinrich\n",
    "* 11177796\n",
    "* awh055"
   ]
  },
  {
   "cell_type": "markdown",
   "metadata": {},
   "source": [
    "Use the A2Q3 dataset to compare three classifiers:\n",
    "\n",
    "1) K-Nearest Neibours Classifier. Remember that you'll have to choose *K*.\n",
    "\n",
    "2) Naive Bayes Classifier\n",
    "\n",
    "3) Decision Tree Classifier"
   ]
  },
  {
   "cell_type": "code",
   "execution_count": 15,
   "metadata": {},
   "outputs": [
    {
     "name": "stdout",
     "output_type": "stream",
     "text": [
      "Accuracy of K Neighbors classifier at k = 10 is 0.7921348314606742\n",
      "accuracy predicting 13 from 1: 0.33146067415730335\n"
     ]
    }
   ],
   "source": [
    "import pandas as pd\n",
    "from sklearn import neighbors\n",
    "\n",
    "dataframe = pd.read_csv('a2q3.csv', header=None, \n",
    "                        names=['Class','I','II','III','IV','V','VI','VII','VIII','IX','X','XI','XII','XIII'],\n",
    "                        index_col=False)\n",
    "features = dataframe.drop(columns=['Class'])\n",
    "labels = dataframe['Class']\n",
    "\n",
    "i = features['I']\n",
    "i = i.values.reshape(-1, 1)\n",
    "xiii = features['XIII']\n",
    "xiii = xiii.values.reshape(-1, 1)\n",
    "\n",
    "K = 10\n",
    "\n",
    "# for K in range(1, 200):\n",
    "clf = neighbors.KNeighborsClassifier(K)\n",
    "clf.fit(features, labels)\n",
    "predict_kn = clf.predict(features)\n",
    "print(\"Accuracy of K Neighbors classifier at k =\", K, \"is\", sum(predict_kn == labels)/len(predict_kn))\n",
    "## end commented loop\n",
    "\n",
    "clf.fit(i, labels)\n",
    "predict = clf.predict(xiii)\n",
    "print('accuracy predicting 13 from 1:', sum(predict == labels)/len(predict))"
   ]
  },
  {
   "cell_type": "code",
   "execution_count": 16,
   "metadata": {
    "scrolled": true
   },
   "outputs": [
    {
     "name": "stdout",
     "output_type": "stream",
     "text": [
      "Accuracy of the Naive Bayes classifier is 0.9887640449438202\n",
      "accuracy predicting 13 from 1: 0.398876404494382\n"
     ]
    }
   ],
   "source": [
    "from sklearn.naive_bayes import GaussianNB\n",
    "\n",
    "clf = GaussianNB()\n",
    "clf.fit(features, labels)\n",
    "predict_gauss = clf.predict(features)\n",
    "print(\"Accuracy of the Naive Bayes classifier is\", sum(predict_gauss == labels)/len(predict_gauss))\n",
    "\n",
    "clf.fit(i, labels)\n",
    "predict = clf.predict(xiii)\n",
    "print('accuracy predicting 13 from 1:', sum(predict == labels)/len(predict))"
   ]
  },
  {
   "cell_type": "code",
   "execution_count": 20,
   "metadata": {},
   "outputs": [
    {
     "name": "stdout",
     "output_type": "stream",
     "text": [
      "Accuracy of the Decision Tree classifier is 1.0\n",
      "accuracy predicting 13 from 1: 0.33146067415730335\n"
     ]
    }
   ],
   "source": [
    "from sklearn.tree import DecisionTreeClassifier\n",
    "from sklearn.datasets import load_iris\n",
    "\n",
    "depth = None\n",
    "\n",
    "clf = DecisionTreeClassifier(max_depth = depth)\n",
    "clf.fit(features, labels)\n",
    "predict_dt = clf.predict(features)\n",
    "# print(clf.predict_proba(features))\n",
    "print(\"Accuracy of the Decision Tree classifier is\", sum(predict_dt == labels)/len(predict_dt))\n",
    "\n",
    "clf.fit(i, labels)\n",
    "predict = clf.predict(xiii)\n",
    "print('accuracy predicting 13 from 1:', sum(predict == labels)/len(predict))"
   ]
  },
  {
   "cell_type": "code",
   "execution_count": 21,
   "metadata": {},
   "outputs": [
    {
     "name": "stdout",
     "output_type": "stream",
     "text": [
      "0.7835442149050517\n",
      "0.9890197353534075\n",
      "1.0\n"
     ]
    }
   ],
   "source": [
    "from sklearn.metrics import f1_score \n",
    "\n",
    "print(f1_score(labels, predict_kn, average='macro'))\n",
    "print(f1_score(labels, predict_gauss, average='macro'))\n",
    "print(f1_score(labels, predict_dt, average='macro'))"
   ]
  },
  {
   "cell_type": "markdown",
   "metadata": {},
   "source": []
  }
 ],
 "metadata": {
  "kernelspec": {
   "display_name": "Python 3",
   "language": "python",
   "name": "python3"
  },
  "language_info": {
   "codemirror_mode": {
    "name": "ipython",
    "version": 3
   },
   "file_extension": ".py",
   "mimetype": "text/x-python",
   "name": "python",
   "nbconvert_exporter": "python",
   "pygments_lexer": "ipython3",
   "version": "3.7.4"
  }
 },
 "nbformat": 4,
 "nbformat_minor": 2
}
