{
 "cells": [
  {
   "cell_type": "markdown",
   "metadata": {},
   "source": [
    "# CMPT 423/820 \n",
    "## Assignment 2 Question 2\n",
    "* Austin Heinrich\n",
    "* 11177796\n",
    "* awh055"
   ]
  },
  {
   "cell_type": "code",
   "execution_count": 1,
   "metadata": {},
   "outputs": [],
   "source": [
    "import pandas as pd\n",
    "from sklearn.naive_bayes import GaussianNB\n",
    "\n",
    "dataframe = pd.read_csv('a2q3.csv', \n",
    "                        header=None,\n",
    "                        names=['Class','1','2','3','4','5','6','7','8','9','10',\n",
    "                               '11','12','13'],\n",
    "                        index_col=False)\n",
    "\n",
    "labels = dataframe['Class']\n",
    "features = dataframe.drop(columns=['Class'])"
   ]
  },
  {
   "cell_type": "markdown",
   "metadata": {},
   "source": [
    "• Which, if any, of the 13 features, would you pick as the single feature in a 1-feature classifier? Briefly\n",
    "explain your answer.\n",
    "\n",
    "• Prior to building a classifier, do you think a classifier based on this data will have high accuracy? Briefly\n",
    "explain your answer."
   ]
  },
  {
   "cell_type": "code",
   "execution_count": null,
   "metadata": {},
   "outputs": [],
   "source": []
  }
 ],
 "metadata": {
  "kernelspec": {
   "display_name": "Python 3",
   "language": "python",
   "name": "python3"
  },
  "language_info": {
   "codemirror_mode": {
    "name": "ipython",
    "version": 3
   },
   "file_extension": ".py",
   "mimetype": "text/x-python",
   "name": "python",
   "nbconvert_exporter": "python",
   "pygments_lexer": "ipython3",
   "version": "3.7.4"
  }
 },
 "nbformat": 4,
 "nbformat_minor": 2
}
