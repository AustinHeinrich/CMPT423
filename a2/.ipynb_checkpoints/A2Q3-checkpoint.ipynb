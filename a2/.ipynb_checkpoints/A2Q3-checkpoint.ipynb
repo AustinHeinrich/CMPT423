{
 "cells": [
  {
   "cell_type": "markdown",
   "metadata": {},
   "source": [
    "# CMPT 423/820 \n",
    "## Assignment 2 Question 3\n",
    "* Austin Heinrich\n",
    "* 11177796\n",
    "* awh055"
   ]
  },
  {
   "cell_type": "markdown",
   "metadata": {},
   "source": [
    "Use the A2Q3 dataset to compare three classifiers:\n",
    "\n",
    "1) K-Nearest Neibours Classifier. Remember that you'll have to choose *K*.\n",
    "\n",
    "2) Naive Bayes Classifier\n",
    "\n",
    "3) Decision Tree Classifier"
   ]
  },
  {
   "cell_type": "code",
   "execution_count": null,
   "metadata": {},
   "outputs": [],
   "source": []
  }
 ],
 "metadata": {
  "kernelspec": {
   "display_name": "Python 3",
   "language": "python",
   "name": "python3"
  },
  "language_info": {
   "codemirror_mode": {
    "name": "ipython",
    "version": 3
   },
   "file_extension": ".py",
   "mimetype": "text/x-python",
   "name": "python",
   "nbconvert_exporter": "python",
   "pygments_lexer": "ipython3",
   "version": "3.7.4"
  }
 },
 "nbformat": 4,
 "nbformat_minor": 2
}
