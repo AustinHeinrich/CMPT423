{
 "cells": [
  {
   "cell_type": "markdown",
   "metadata": {},
   "source": [
    "## Simple Application of Gaussian Naive Bayes\n",
    "### Demo #1\n",
    "* Iris data set\n",
    "* No test set"
   ]
  },
  {
   "cell_type": "code",
   "execution_count": 1,
   "metadata": {},
   "outputs": [
    {
     "name": "stdout",
     "output_type": "stream",
     "text": [
      "Accuracy: 0.96\n"
     ]
    }
   ],
   "source": [
    "import pandas as pd\n",
    "from sklearn.naive_bayes import GaussianNB\n",
    "\n",
    "dataframe = pd.read_csv('iris.csv', \n",
    "                        header=None, \n",
    "                        names=['SL','SW','PL','PW','Class'], \n",
    "                        index_col=False)\n",
    "\n",
    "# Create Gaussian Naive Bayes Object\n",
    "clf = GaussianNB()\n",
    "\n",
    "# Separate the features X from the labels Y\n",
    "array = dataframe.values\n",
    "X = array[:,:4]\n",
    "Y = array[:,4]\n",
    "\n",
    "# fitting the model to the data\n",
    "clf.fit(X, Y) \n",
    "\n",
    "# Predicting class labels from the features\n",
    "predictions = clf.predict(X)\n",
    "\n",
    "# print the accuracy\n",
    "print(\"Accuracy:\", sum(predictions == Y)/len(predictions) )"
   ]
  },
  {
   "cell_type": "markdown",
   "metadata": {},
   "source": [
    "### Demo #2\n",
    "* Iris data set\n",
    "* Splitting the dataset into training and test sets"
   ]
  },
  {
   "cell_type": "code",
   "execution_count": 2,
   "metadata": {},
   "outputs": [
    {
     "name": "stdout",
     "output_type": "stream",
     "text": [
      "Accuracy: 0.9666666666666667\n"
     ]
    }
   ],
   "source": [
    "from sklearn.model_selection import train_test_split\n",
    "\n",
    "# Create Gaussian Naive Bayes Object\n",
    "clf = GaussianNB()\n",
    "\n",
    "# Set aside  data as a part of test set\n",
    "tpropn = 0.2\n",
    "X_train, X_test, Y_train, Y_test = train_test_split(X, Y, test_size=tpropn)\n",
    "\n",
    "# fitting the model to the training data\n",
    "clf.fit(X_train, Y_train) \n",
    "\n",
    "# Predicting class labels from the features\n",
    "predictions = clf.predict(X_test)\n",
    "\n",
    "# print the accuracy\n",
    "print(\"Accuracy:\", sum(predictions == Y_test)/len(predictions) )\n"
   ]
  },
  {
   "cell_type": "markdown",
   "metadata": {},
   "source": [
    "### Demo #3\n",
    "* Confusion matrix"
   ]
  },
  {
   "cell_type": "code",
   "execution_count": 3,
   "metadata": {},
   "outputs": [
    {
     "name": "stdout",
     "output_type": "stream",
     "text": [
      "[[13  0  0]\n",
      " [ 0 10  1]\n",
      " [ 0  0  6]]\n"
     ]
    }
   ],
   "source": [
    "from sklearn.metrics import confusion_matrix\n",
    "\n",
    "cm = confusion_matrix(predictions, Y_test)\n",
    "print(cm)"
   ]
  },
  {
   "cell_type": "markdown",
   "metadata": {},
   "source": [
    "### Demo #4\n",
    "* Cross-Validation to calculate performance metrics\n",
    "    * accuracy, f1, precision, recall"
   ]
  },
  {
   "cell_type": "code",
   "execution_count": 4,
   "metadata": {},
   "outputs": [
    {
     "name": "stdout",
     "output_type": "stream",
     "text": [
      "CV results: [0.93333333 0.93333333 1.         0.93333333 0.93333333 0.93333333\n",
      " 0.86666667 1.         1.         1.        ]\n",
      "GNB f1_micro: 0.953333 (0.042687)\n"
     ]
    }
   ],
   "source": [
    "from sklearn.model_selection import cross_val_score\n",
    "\n",
    "metric_str = 'f1_micro'\n",
    "new_clf = GaussianNB()\n",
    "cv_results = cross_val_score(new_clf, X, Y, cv=10, scoring=metric_str)\n",
    "\n",
    "print(\"CV results:\", cv_results)\n",
    "\n",
    "#displaying the mean and standard deviation of the cross_validation results\n",
    "print(\"%s: %f (%f)\" % ('GNB '+metric_str, cv_results.mean(), cv_results.std()))"
   ]
  },
  {
   "cell_type": "markdown",
   "metadata": {},
   "source": [
    "### Demo #5\n",
    "* Cross-Validation to calculate performance metrics\n",
    "* Creating a validation set "
   ]
  },
  {
   "cell_type": "code",
   "execution_count": 5,
   "metadata": {},
   "outputs": [
    {
     "name": "stdout",
     "output_type": "stream",
     "text": [
      "CV accuracy: 0.946667 (0.049889)\n",
      "Validation Accuracy: 0.96\n"
     ]
    }
   ],
   "source": [
    "from sklearn.model_selection import cross_val_score\n",
    "\n",
    "# Set aside  data as a part of test set\n",
    "tpropn = 0.5\n",
    "X_train, X_test, Y_train, Y_test = train_test_split(X, Y, test_size=tpropn)\n",
    "\n",
    "metric_str = 'accuracy'\n",
    "new_clf = GaussianNB()\n",
    "cv_results = cross_val_score(new_clf, X_train, Y_train, cv=5, scoring=metric_str)\n",
    "\n",
    "#displaying the mean and standard deviation of the cross_validation results\n",
    "print(\"%s: %f (%f)\" % ('CV '+metric_str, cv_results.mean(), cv_results.std()))\n",
    "\n",
    "# Predicting class labels from the features\n",
    "predictions = clf.predict(X_test)\n",
    "\n",
    "# print the accuracy\n",
    "print(\"Validation Accuracy:\", sum(predictions == Y_test)/len(predictions) )"
   ]
  },
  {
   "cell_type": "markdown",
   "metadata": {},
   "source": [
    "### Demo #6\n",
    "* Creating your own folds\n",
    "     * StratifiedKFold, KFold"
   ]
  },
  {
   "cell_type": "code",
   "execution_count": 14,
   "metadata": {},
   "outputs": [
    {
     "name": "stdout",
     "output_type": "stream",
     "text": [
      "NB accuracy: 0.953333 (0.045216)\n"
     ]
    }
   ],
   "source": [
    "from sklearn import model_selection\n",
    "\n",
    "kfold = model_selection.StratifiedKFold(n_splits=5, shuffle=True)\n",
    "\n",
    "#calling the cross validation function\n",
    "cv_results = model_selection.cross_val_score(GaussianNB(), X, Y, cv=kfold, scoring=metric_str)\n",
    "\n",
    "#displaying the mean and standard deviation of the prediction\n",
    "msg = \"%s: %f (%f)\" % ('NB accuracy', cv_results.mean(), cv_results.std())\n",
    "print(msg)\n"
   ]
  }
 ],
 "metadata": {
  "kernelspec": {
   "display_name": "Python 3",
   "language": "python",
   "name": "python3"
  },
  "language_info": {
   "codemirror_mode": {
    "name": "ipython",
    "version": 3
   },
   "file_extension": ".py",
   "mimetype": "text/x-python",
   "name": "python",
   "nbconvert_exporter": "python",
   "pygments_lexer": "ipython3",
   "version": "3.7.4"
  }
 },
 "nbformat": 4,
 "nbformat_minor": 2
}
